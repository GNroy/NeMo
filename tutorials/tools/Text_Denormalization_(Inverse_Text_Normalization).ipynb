{
  "nbformat": 4,
  "nbformat_minor": 5,
  "metadata": {
    "kernelspec": {
      "display_name": "Python 3",
      "language": "python",
      "name": "python3"
    },
    "language_info": {
      "codemirror_mode": {
        "name": "ipython",
        "version": 3
      },
      "file_extension": ".py",
      "mimetype": "text/x-python",
      "name": "python",
      "nbconvert_exporter": "python",
      "pygments_lexer": "ipython3",
      "version": "3.7.9"
    },
    "colab": {
      "name": "Text_Denormalization_(Inverse_Text_Normalization).ipynb",
      "provenance": [],
      "collapsed_sections": []
    }
  },
  "cells": [
    {
      "cell_type": "code",
      "metadata": {
        "id": "YxVLI-f97Kxl"
      },
      "source": [
        "\"\"\"\n",
        "You can run either this notebook locally (if you have all the dependencies and a GPU) or on Google Colab.\n",
        "\n",
        "Instructions for setting up Colab are as follows:\n",
        "1. Open a new Python 3 notebook.\n",
        "2. Import this notebook from GitHub (File -> Upload Notebook -> \"GITHUB\" tab -> copy/paste GitHub URL)\n",
        "3. Connect to an instance with a GPU (Runtime -> Change runtime type -> select \"GPU\" for hardware accelerator)\n",
        "\"\"\"\n",
        "\n",
        "BRANCH = 'main'"
      ],
      "id": "YxVLI-f97Kxl",
      "execution_count": 1,
      "outputs": []
    },
    {
      "cell_type": "code",
      "metadata": {
        "colab": {
          "base_uri": "https://localhost:8080/"
        },
        "id": "U1GACXvL5GhV",
        "outputId": "1acea443-38ef-4d46-e71c-f960dbdfb867"
      },
      "source": [
        "if 'google.colab' in str(get_ipython()):\n",
        "  !pip install -q condacolab\n",
        "  import condacolab\n",
        "  condacolab.install()"
      ],
      "id": "U1GACXvL5GhV",
      "execution_count": 2,
      "outputs": [
        {
          "output_type": "stream",
          "text": [
            "✨🍰✨ Everything looks OK!\n"
          ],
          "name": "stdout"
        }
      ]
    },
    {
      "cell_type": "code",
      "metadata": {
        "colab": {
          "base_uri": "https://localhost:8080/"
        },
        "id": "TcWLxxXC7Jgx",
        "outputId": "a6ff4eed-c9bb-437a-cbec-a1cf07a0062e"
      },
      "source": [
        "\n",
        "# If you're using Google Colab and not running locally, run this cell.\n",
        "# install NeMo\n",
        "if 'google.colab' in str(get_ipython()):\n",
        "  !python -m pip install git+https://github.com/NVIDIA/NeMo.git@$BRANCH#egg=nemo_toolkit[all]"
      ],
      "id": "TcWLxxXC7Jgx",
      "execution_count": 3,
      "outputs": [
        {
          "output_type": "stream",
          "text": [
            "Collecting nemo_toolkit[all]\n",
            "  Cloning https://github.com/NVIDIA/NeMo.git (to revision debug_itn) to /tmp/pip-install-sl4dfir1/nemo-toolkit_2b0f4f353bbb4b10a38be9e09869259a\n",
            "  Running command git clone -q https://github.com/NVIDIA/NeMo.git /tmp/pip-install-sl4dfir1/nemo-toolkit_2b0f4f353bbb4b10a38be9e09869259a\n",
            "  Running command git checkout -b debug_itn --track origin/debug_itn\n",
            "  Switched to a new branch 'debug_itn'\n",
            "  Branch 'debug_itn' set up to track remote branch 'debug_itn' from 'origin'.\n",
            "Requirement already satisfied: numpy>=1.18.2 in /usr/local/lib/python3.7/site-packages (from nemo_toolkit[all]) (1.20.2)\n",
            "Requirement already satisfied: onnx>=1.7.0 in /usr/local/lib/python3.7/site-packages (from nemo_toolkit[all]) (1.8.1)\n",
            "Requirement already satisfied: pytorch-lightning>=1.2.3 in /usr/local/lib/python3.7/site-packages (from nemo_toolkit[all]) (1.2.7)\n",
            "Requirement already satisfied: python-dateutil in /usr/local/lib/python3.7/site-packages (from nemo_toolkit[all]) (2.8.1)\n",
            "Requirement already satisfied: torch in /usr/local/lib/python3.7/site-packages (from nemo_toolkit[all]) (1.8.1)\n",
            "Requirement already satisfied: wget in /usr/local/lib/python3.7/site-packages (from nemo_toolkit[all]) (3.2)\n",
            "Requirement already satisfied: wrapt in /usr/local/lib/python3.7/site-packages (from nemo_toolkit[all]) (1.12.1)\n",
            "Requirement already satisfied: ruamel.yaml in /usr/local/lib/python3.7/site-packages (from nemo_toolkit[all]) (0.17.4)\n",
            "Requirement already satisfied: scikit-learn in /usr/local/lib/python3.7/site-packages (from nemo_toolkit[all]) (0.24.1)\n",
            "Requirement already satisfied: omegaconf>=2.0.5 in /usr/local/lib/python3.7/site-packages (from nemo_toolkit[all]) (2.0.6)\n",
            "Requirement already satisfied: hydra-core>=1.0.4 in /usr/local/lib/python3.7/site-packages (from nemo_toolkit[all]) (1.0.6)\n",
            "Requirement already satisfied: transformers>=4.0.1 in /usr/local/lib/python3.7/site-packages (from nemo_toolkit[all]) (4.5.0)\n",
            "Requirement already satisfied: sentencepiece<1.0.0 in /usr/local/lib/python3.7/site-packages (from nemo_toolkit[all]) (0.1.95)\n",
            "Requirement already satisfied: webdataset>=0.1.48 in /usr/local/lib/python3.7/site-packages (from nemo_toolkit[all]) (0.1.54)\n",
            "Requirement already satisfied: tqdm>=4.41.0 in /usr/local/lib/python3.7/site-packages (from nemo_toolkit[all]) (4.59.0)\n",
            "Requirement already satisfied: opencc in /usr/local/lib/python3.7/site-packages (from nemo_toolkit[all]) (1.1.2)\n",
            "Requirement already satisfied: pangu in /usr/local/lib/python3.7/site-packages (from nemo_toolkit[all]) (4.0.6.1)\n",
            "Requirement already satisfied: jieba in /usr/local/lib/python3.7/site-packages (from nemo_toolkit[all]) (0.42.1)\n",
            "Requirement already satisfied: numba in /usr/local/lib/python3.7/site-packages (from nemo_toolkit[all]) (0.53.1)\n",
            "Requirement already satisfied: black==19.10b0 in /usr/local/lib/python3.7/site-packages (from nemo_toolkit[all]) (19.10b0)\n",
            "Requirement already satisfied: isort[requirements]<5 in /usr/local/lib/python3.7/site-packages (from nemo_toolkit[all]) (4.3.21)\n",
            "Requirement already satisfied: parameterized in /usr/local/lib/python3.7/site-packages (from nemo_toolkit[all]) (0.8.1)\n",
            "Requirement already satisfied: pytest in /usr/local/lib/python3.7/site-packages (from nemo_toolkit[all]) (6.2.3)\n",
            "Requirement already satisfied: pytest-runner in /usr/local/lib/python3.7/site-packages (from nemo_toolkit[all]) (5.3.0)\n",
            "Requirement already satisfied: sphinx in /usr/local/lib/python3.7/site-packages (from nemo_toolkit[all]) (3.5.3)\n",
            "Requirement already satisfied: sphinxcontrib-bibtex in /usr/local/lib/python3.7/site-packages (from nemo_toolkit[all]) (2.2.0)\n",
            "Requirement already satisfied: wandb in /usr/local/lib/python3.7/site-packages (from nemo_toolkit[all]) (0.10.25)\n",
            "Requirement already satisfied: braceexpand in /usr/local/lib/python3.7/site-packages (from nemo_toolkit[all]) (0.1.6)\n",
            "Requirement already satisfied: editdistance in /usr/local/lib/python3.7/site-packages (from nemo_toolkit[all]) (0.5.3)\n",
            "Requirement already satisfied: frozendict in /usr/local/lib/python3.7/site-packages (from nemo_toolkit[all]) (1.2)\n",
            "Requirement already satisfied: inflect in /usr/local/lib/python3.7/site-packages (from nemo_toolkit[all]) (5.3.0)\n",
            "Requirement already satisfied: kaldi-io in /usr/local/lib/python3.7/site-packages (from nemo_toolkit[all]) (0.9.4)\n",
            "Requirement already satisfied: librosa in /usr/local/lib/python3.7/site-packages (from nemo_toolkit[all]) (0.8.0)\n",
            "Requirement already satisfied: marshmallow in /usr/local/lib/python3.7/site-packages (from nemo_toolkit[all]) (3.11.1)\n",
            "Requirement already satisfied: packaging in /usr/local/lib/python3.7/site-packages (from nemo_toolkit[all]) (20.9)\n",
            "Requirement already satisfied: soundfile in /usr/local/lib/python3.7/site-packages (from nemo_toolkit[all]) (0.10.3.post1)\n",
            "Requirement already satisfied: sox in /usr/local/lib/python3.7/site-packages (from nemo_toolkit[all]) (1.4.1)\n",
            "Requirement already satisfied: unidecode in /usr/local/lib/python3.7/site-packages (from nemo_toolkit[all]) (1.2.0)\n",
            "Requirement already satisfied: kaldi-python-io in /usr/local/lib/python3.7/site-packages (from nemo_toolkit[all]) (1.2.2)\n",
            "Requirement already satisfied: kaldiio in /usr/local/lib/python3.7/site-packages (from nemo_toolkit[all]) (2.17.2)\n",
            "Requirement already satisfied: scipy in /usr/local/lib/python3.7/site-packages (from nemo_toolkit[all]) (1.6.2)\n",
            "Requirement already satisfied: pandas in /usr/local/lib/python3.7/site-packages (from nemo_toolkit[all]) (1.2.3)\n",
            "Requirement already satisfied: g2p_en in /usr/local/lib/python3.7/site-packages (from nemo_toolkit[all]) (2.1.0)\n",
            "Requirement already satisfied: pydub in /usr/local/lib/python3.7/site-packages (from nemo_toolkit[all]) (0.25.1)\n",
            "Requirement already satisfied: pyannote.core in /usr/local/lib/python3.7/site-packages (from nemo_toolkit[all]) (4.1)\n",
            "Requirement already satisfied: pyannote.metrics in /usr/local/lib/python3.7/site-packages (from nemo_toolkit[all]) (3.0.1)\n",
            "Requirement already satisfied: spectralcluster in /usr/local/lib/python3.7/site-packages (from nemo_toolkit[all]) (0.1.0)\n",
            "Requirement already satisfied: torch-stft in /usr/local/lib/python3.7/site-packages (from nemo_toolkit[all]) (0.1.4)\n",
            "Requirement already satisfied: pillow in /usr/local/lib/python3.7/site-packages (from nemo_toolkit[all]) (8.2.0)\n",
            "Requirement already satisfied: torchvision in /usr/local/lib/python3.7/site-packages (from nemo_toolkit[all]) (0.9.1)\n",
            "Requirement already satisfied: boto3 in /usr/local/lib/python3.7/site-packages (from nemo_toolkit[all]) (1.17.48)\n",
            "Requirement already satisfied: h5py in /usr/local/lib/python3.7/site-packages (from nemo_toolkit[all]) (3.2.1)\n",
            "Requirement already satisfied: matplotlib>=3.3.2 in /usr/local/lib/python3.7/site-packages (from nemo_toolkit[all]) (3.4.1)\n",
            "Requirement already satisfied: youtokentome>=1.0.5 in /usr/local/lib/python3.7/site-packages (from nemo_toolkit[all]) (1.0.6)\n",
            "Requirement already satisfied: rapidfuzz in /usr/local/lib/python3.7/site-packages (from nemo_toolkit[all]) (1.4.1)\n",
            "Requirement already satisfied: gdown in /usr/local/lib/python3.7/site-packages (from nemo_toolkit[all]) (3.12.2)\n",
            "Requirement already satisfied: megatron-lm==2.2.0 in /usr/local/lib/python3.7/site-packages (from nemo_toolkit[all]) (2.2.0)\n",
            "Requirement already satisfied: sacrebleu[ja] in /usr/local/lib/python3.7/site-packages (from nemo_toolkit[all]) (1.5.1)\n",
            "Requirement already satisfied: sacremoses>=0.0.43 in /usr/local/lib/python3.7/site-packages (from nemo_toolkit[all]) (0.0.44)\n",
            "Requirement already satisfied: pypinyin in /usr/local/lib/python3.7/site-packages (from nemo_toolkit[all]) (0.41.0)\n",
            "Requirement already satisfied: attrdict in /usr/local/lib/python3.7/site-packages (from nemo_toolkit[all]) (2.0.1)\n",
            "Requirement already satisfied: pystoi in /usr/local/lib/python3.7/site-packages (from nemo_toolkit[all]) (0.3.3)\n",
            "Requirement already satisfied: pesq in /usr/local/lib/python3.7/site-packages (from nemo_toolkit[all]) (0.0.2)\n",
            "Requirement already satisfied: nltk in /usr/local/lib/python3.7/site-packages (from nemo_toolkit[all]) (3.6.1)\n",
            "Requirement already satisfied: regex in /usr/local/lib/python3.7/site-packages (from nemo_toolkit[all]) (2021.4.4)\n",
            "Requirement already satisfied: attrs>=18.1.0 in /usr/local/lib/python3.7/site-packages (from black==19.10b0->nemo_toolkit[all]) (20.3.0)\n",
            "Requirement already satisfied: click>=6.5 in /usr/local/lib/python3.7/site-packages (from black==19.10b0->nemo_toolkit[all]) (7.1.2)\n",
            "Requirement already satisfied: toml>=0.9.4 in /usr/local/lib/python3.7/site-packages (from black==19.10b0->nemo_toolkit[all]) (0.10.2)\n",
            "Requirement already satisfied: appdirs in /usr/local/lib/python3.7/site-packages (from black==19.10b0->nemo_toolkit[all]) (1.4.4)\n",
            "Requirement already satisfied: pathspec<1,>=0.6 in /usr/local/lib/python3.7/site-packages (from black==19.10b0->nemo_toolkit[all]) (0.8.1)\n",
            "Requirement already satisfied: typed-ast>=1.4.0 in /usr/local/lib/python3.7/site-packages (from black==19.10b0->nemo_toolkit[all]) (1.4.2)\n",
            "Requirement already satisfied: six in /usr/local/lib/python3.7/site-packages (from megatron-lm==2.2.0->nemo_toolkit[all]) (1.15.0)\n",
            "Requirement already satisfied: pybind11 in /usr/local/lib/python3.7/site-packages (from megatron-lm==2.2.0->nemo_toolkit[all]) (2.6.2)\n",
            "Requirement already satisfied: importlib-resources in /usr/local/lib/python3.7/site-packages (from hydra-core>=1.0.4->nemo_toolkit[all]) (5.1.2)\n",
            "Requirement already satisfied: antlr4-python3-runtime==4.8 in /usr/local/lib/python3.7/site-packages (from hydra-core>=1.0.4->nemo_toolkit[all]) (4.8)\n",
            "Requirement already satisfied: pip-api in /usr/local/lib/python3.7/site-packages (from isort[requirements]<5->nemo_toolkit[all]) (0.0.20)\n",
            "Requirement already satisfied: pipreqs in /usr/local/lib/python3.7/site-packages (from isort[requirements]<5->nemo_toolkit[all]) (0.4.10)\n",
            "Requirement already satisfied: typing-extensions in /usr/local/lib/python3.7/site-packages (from omegaconf>=2.0.5->nemo_toolkit[all]) (3.7.4.3)\n",
            "Requirement already satisfied: PyYAML>=5.1.* in /usr/local/lib/python3.7/site-packages (from omegaconf>=2.0.5->nemo_toolkit[all]) (5.3.1)\n",
            "Requirement already satisfied: protobuf in /usr/local/lib/python3.7/site-packages (from onnx>=1.7.0->nemo_toolkit[all]) (3.15.8)\n",
            "Requirement already satisfied: future>=0.17.1 in /usr/local/lib/python3.7/site-packages (from pytorch-lightning>=1.2.3->nemo_toolkit[all]) (0.18.2)\n",
            "Requirement already satisfied: fsspec[http]>=0.8.1 in /usr/local/lib/python3.7/site-packages (from pytorch-lightning>=1.2.3->nemo_toolkit[all]) (0.9.0)\n",
            "Requirement already satisfied: tensorboard>=2.2.0 in /usr/local/lib/python3.7/site-packages (from pytorch-lightning>=1.2.3->nemo_toolkit[all]) (2.4.1)\n",
            "Requirement already satisfied: torchmetrics>=0.2.0 in /usr/local/lib/python3.7/site-packages (from pytorch-lightning>=1.2.3->nemo_toolkit[all]) (0.2.0)\n",
            "Requirement already satisfied: importlib-metadata in /usr/local/lib/python3.7/site-packages (from fsspec[http]>=0.8.1->pytorch-lightning>=1.2.3->nemo_toolkit[all]) (3.10.0)\n",
            "Requirement already satisfied: requests in /usr/local/lib/python3.7/site-packages (from fsspec[http]>=0.8.1->pytorch-lightning>=1.2.3->nemo_toolkit[all]) (2.25.1)\n",
            "Requirement already satisfied: aiohttp in /usr/local/lib/python3.7/site-packages (from fsspec[http]>=0.8.1->pytorch-lightning>=1.2.3->nemo_toolkit[all]) (3.7.4.post0)\n",
            "Requirement already satisfied: joblib in /usr/local/lib/python3.7/site-packages (from sacremoses>=0.0.43->nemo_toolkit[all]) (1.0.1)\n",
            "Requirement already satisfied: absl-py>=0.4 in /usr/local/lib/python3.7/site-packages (from tensorboard>=2.2.0->pytorch-lightning>=1.2.3->nemo_toolkit[all]) (0.12.0)\n",
            "Requirement already satisfied: wheel>=0.26 in /usr/local/lib/python3.7/site-packages (from tensorboard>=2.2.0->pytorch-lightning>=1.2.3->nemo_toolkit[all]) (0.36.2)\n",
            "Requirement already satisfied: grpcio>=1.24.3 in /usr/local/lib/python3.7/site-packages (from tensorboard>=2.2.0->pytorch-lightning>=1.2.3->nemo_toolkit[all]) (1.37.0)\n",
            "Requirement already satisfied: google-auth-oauthlib<0.5,>=0.4.1 in /usr/local/lib/python3.7/site-packages (from tensorboard>=2.2.0->pytorch-lightning>=1.2.3->nemo_toolkit[all]) (0.4.4)\n",
            "Requirement already satisfied: google-auth<2,>=1.6.3 in /usr/local/lib/python3.7/site-packages (from tensorboard>=2.2.0->pytorch-lightning>=1.2.3->nemo_toolkit[all]) (1.28.1)\n",
            "Requirement already satisfied: werkzeug>=0.11.15 in /usr/local/lib/python3.7/site-packages (from tensorboard>=2.2.0->pytorch-lightning>=1.2.3->nemo_toolkit[all]) (1.0.1)\n",
            "Requirement already satisfied: markdown>=2.6.8 in /usr/local/lib/python3.7/site-packages (from tensorboard>=2.2.0->pytorch-lightning>=1.2.3->nemo_toolkit[all]) (3.3.4)\n",
            "Requirement already satisfied: tensorboard-plugin-wit>=1.6.0 in /usr/local/lib/python3.7/site-packages (from tensorboard>=2.2.0->pytorch-lightning>=1.2.3->nemo_toolkit[all]) (1.8.0)\n",
            "Requirement already satisfied: setuptools>=41.0.0 in /usr/local/lib/python3.7/site-packages (from tensorboard>=2.2.0->pytorch-lightning>=1.2.3->nemo_toolkit[all]) (49.6.0.post20210108)\n",
            "Requirement already satisfied: cachetools<5.0,>=2.0.0 in /usr/local/lib/python3.7/site-packages (from google-auth<2,>=1.6.3->tensorboard>=2.2.0->pytorch-lightning>=1.2.3->nemo_toolkit[all]) (4.2.1)\n",
            "Requirement already satisfied: pyasn1-modules>=0.2.1 in /usr/local/lib/python3.7/site-packages (from google-auth<2,>=1.6.3->tensorboard>=2.2.0->pytorch-lightning>=1.2.3->nemo_toolkit[all]) (0.2.8)\n",
            "Requirement already satisfied: rsa<5,>=3.1.4 in /usr/local/lib/python3.7/site-packages (from google-auth<2,>=1.6.3->tensorboard>=2.2.0->pytorch-lightning>=1.2.3->nemo_toolkit[all]) (4.7.2)\n",
            "Requirement already satisfied: requests-oauthlib>=0.7.0 in /usr/local/lib/python3.7/site-packages (from google-auth-oauthlib<0.5,>=0.4.1->tensorboard>=2.2.0->pytorch-lightning>=1.2.3->nemo_toolkit[all]) (1.3.0)\n",
            "Requirement already satisfied: pyasn1<0.5.0,>=0.4.6 in /usr/local/lib/python3.7/site-packages (from pyasn1-modules>=0.2.1->google-auth<2,>=1.6.3->tensorboard>=2.2.0->pytorch-lightning>=1.2.3->nemo_toolkit[all]) (0.4.8)\n",
            "Requirement already satisfied: urllib3<1.27,>=1.21.1 in /usr/local/lib/python3.7/site-packages (from requests->fsspec[http]>=0.8.1->pytorch-lightning>=1.2.3->nemo_toolkit[all]) (1.26.3)\n",
            "Requirement already satisfied: idna<3,>=2.5 in /usr/local/lib/python3.7/site-packages (from requests->fsspec[http]>=0.8.1->pytorch-lightning>=1.2.3->nemo_toolkit[all]) (2.10)\n",
            "Requirement already satisfied: certifi>=2017.4.17 in /usr/local/lib/python3.7/site-packages (from requests->fsspec[http]>=0.8.1->pytorch-lightning>=1.2.3->nemo_toolkit[all]) (2020.12.5)\n",
            "Requirement already satisfied: chardet<5,>=3.0.2 in /usr/local/lib/python3.7/site-packages (from requests->fsspec[http]>=0.8.1->pytorch-lightning>=1.2.3->nemo_toolkit[all]) (4.0.0)\n",
            "Requirement already satisfied: oauthlib>=3.0.0 in /usr/local/lib/python3.7/site-packages (from requests-oauthlib>=0.7.0->google-auth-oauthlib<0.5,>=0.4.1->tensorboard>=2.2.0->pytorch-lightning>=1.2.3->nemo_toolkit[all]) (3.1.0)\n",
            "Requirement already satisfied: tokenizers<0.11,>=0.10.1 in /usr/local/lib/python3.7/site-packages (from transformers>=4.0.1->nemo_toolkit[all]) (0.10.2)\n",
            "Requirement already satisfied: filelock in /usr/local/lib/python3.7/site-packages (from transformers>=4.0.1->nemo_toolkit[all]) (3.0.12)\n",
            "Requirement already satisfied: yarl<2.0,>=1.0 in /usr/local/lib/python3.7/site-packages (from aiohttp->fsspec[http]>=0.8.1->pytorch-lightning>=1.2.3->nemo_toolkit[all]) (1.6.3)\n",
            "Requirement already satisfied: async-timeout<4.0,>=3.0 in /usr/local/lib/python3.7/site-packages (from aiohttp->fsspec[http]>=0.8.1->pytorch-lightning>=1.2.3->nemo_toolkit[all]) (3.0.1)\n",
            "Requirement already satisfied: multidict<7.0,>=4.5 in /usr/local/lib/python3.7/site-packages (from aiohttp->fsspec[http]>=0.8.1->pytorch-lightning>=1.2.3->nemo_toolkit[all]) (5.1.0)\n",
            "Requirement already satisfied: s3transfer<0.4.0,>=0.3.0 in /usr/local/lib/python3.7/site-packages (from boto3->nemo_toolkit[all]) (0.3.6)\n",
            "Requirement already satisfied: jmespath<1.0.0,>=0.7.1 in /usr/local/lib/python3.7/site-packages (from boto3->nemo_toolkit[all]) (0.10.0)\n",
            "Requirement already satisfied: botocore<1.21.0,>=1.20.48 in /usr/local/lib/python3.7/site-packages (from boto3->nemo_toolkit[all]) (1.20.48)\n",
            "Requirement already satisfied: distance>=0.1.3 in /usr/local/lib/python3.7/site-packages (from g2p_en->nemo_toolkit[all]) (0.1.3)\n",
            "Requirement already satisfied: cached-property in /usr/local/lib/python3.7/site-packages (from h5py->nemo_toolkit[all]) (1.5.2)\n",
            "Requirement already satisfied: zipp>=0.5 in /usr/local/lib/python3.7/site-packages (from importlib-metadata->fsspec[http]>=0.8.1->pytorch-lightning>=1.2.3->nemo_toolkit[all]) (3.4.1)\n",
            "Requirement already satisfied: resampy>=0.2.2 in /usr/local/lib/python3.7/site-packages (from librosa->nemo_toolkit[all]) (0.2.2)\n",
            "Requirement already satisfied: audioread>=2.0.0 in /usr/local/lib/python3.7/site-packages (from librosa->nemo_toolkit[all]) (2.1.9)\n",
            "Requirement already satisfied: pooch>=1.0 in /usr/local/lib/python3.7/site-packages (from librosa->nemo_toolkit[all]) (1.3.0)\n",
            "Requirement already satisfied: decorator>=3.0.0 in /usr/local/lib/python3.7/site-packages (from librosa->nemo_toolkit[all]) (5.0.6)\n",
            "Requirement already satisfied: llvmlite<0.37,>=0.36.0rc1 in /usr/local/lib/python3.7/site-packages (from numba->nemo_toolkit[all]) (0.36.0)\n",
            "Requirement already satisfied: threadpoolctl>=2.0.0 in /usr/local/lib/python3.7/site-packages (from scikit-learn->nemo_toolkit[all]) (2.1.0)\n",
            "Requirement already satisfied: cffi>=1.0 in /usr/local/lib/python3.7/site-packages (from soundfile->nemo_toolkit[all]) (1.14.5)\n",
            "Requirement already satisfied: pycparser in /usr/local/lib/python3.7/site-packages (from cffi>=1.0->soundfile->nemo_toolkit[all]) (2.20)\n",
            "Requirement already satisfied: cycler>=0.10 in /usr/local/lib/python3.7/site-packages (from matplotlib>=3.3.2->nemo_toolkit[all]) (0.10.0)\n",
            "Requirement already satisfied: pyparsing>=2.2.1 in /usr/local/lib/python3.7/site-packages (from matplotlib>=3.3.2->nemo_toolkit[all]) (2.4.7)\n",
            "Requirement already satisfied: kiwisolver>=1.0.1 in /usr/local/lib/python3.7/site-packages (from matplotlib>=3.3.2->nemo_toolkit[all]) (1.3.1)\n",
            "Requirement already satisfied: pytz>=2017.3 in /usr/local/lib/python3.7/site-packages (from pandas->nemo_toolkit[all]) (2021.1)\n",
            "Requirement already satisfied: pip in /usr/local/lib/python3.7/site-packages (from pip-api->isort[requirements]<5->nemo_toolkit[all]) (21.0.1)\n",
            "Requirement already satisfied: yarg in /usr/local/lib/python3.7/site-packages (from pipreqs->isort[requirements]<5->nemo_toolkit[all]) (0.1.9)\n",
            "Requirement already satisfied: docopt in /usr/local/lib/python3.7/site-packages (from pipreqs->isort[requirements]<5->nemo_toolkit[all]) (0.6.2)\n",
            "Requirement already satisfied: sortedcontainers>=2.0.4 in /usr/local/lib/python3.7/site-packages (from pyannote.core->nemo_toolkit[all]) (2.3.0)\n",
            "Requirement already satisfied: simplejson>=3.8.1 in /usr/local/lib/python3.7/site-packages (from pyannote.core->nemo_toolkit[all]) (3.17.2)\n",
            "Requirement already satisfied: sympy>=1.1 in /usr/local/lib/python3.7/site-packages (from pyannote.metrics->nemo_toolkit[all]) (1.7.1)\n",
            "Requirement already satisfied: tabulate>=0.7.7 in /usr/local/lib/python3.7/site-packages (from pyannote.metrics->nemo_toolkit[all]) (0.8.9)\n",
            "Requirement already satisfied: pyannote.database>=4.0.1 in /usr/local/lib/python3.7/site-packages (from pyannote.metrics->nemo_toolkit[all]) (4.1)\n",
            "Requirement already satisfied: typer[all]>=0.2.1 in /usr/local/lib/python3.7/site-packages (from pyannote.database>=4.0.1->pyannote.metrics->nemo_toolkit[all]) (0.3.2)\n",
            "Requirement already satisfied: mpmath>=0.19 in /usr/local/lib/python3.7/site-packages (from sympy>=1.1->pyannote.metrics->nemo_toolkit[all]) (1.2.1)\n",
            "Requirement already satisfied: shellingham<2.0.0,>=1.3.0 in /usr/local/lib/python3.7/site-packages (from typer[all]>=0.2.1->pyannote.database>=4.0.1->pyannote.metrics->nemo_toolkit[all]) (1.4.0)\n",
            "Requirement already satisfied: colorama<0.5.0,>=0.4.3 in /usr/local/lib/python3.7/site-packages (from typer[all]>=0.2.1->pyannote.database>=4.0.1->pyannote.metrics->nemo_toolkit[all]) (0.4.4)\n",
            "Requirement already satisfied: pluggy<1.0.0a1,>=0.12 in /usr/local/lib/python3.7/site-packages (from pytest->nemo_toolkit[all]) (0.13.1)\n",
            "Requirement already satisfied: iniconfig in /usr/local/lib/python3.7/site-packages (from pytest->nemo_toolkit[all]) (1.1.1)\n",
            "Requirement already satisfied: py>=1.8.2 in /usr/local/lib/python3.7/site-packages (from pytest->nemo_toolkit[all]) (1.10.0)\n",
            "Requirement already satisfied: PySocks!=1.5.7,>=1.5.6 in /usr/local/lib/python3.7/site-packages (from requests->fsspec[http]>=0.8.1->pytorch-lightning>=1.2.3->nemo_toolkit[all]) (1.7.1)\n",
            "Requirement already satisfied: ruamel.yaml.clib>=0.1.2 in /usr/local/lib/python3.7/site-packages (from ruamel.yaml->nemo_toolkit[all]) (0.2.2)\n",
            "Requirement already satisfied: portalocker==2.0.0 in /usr/local/lib/python3.7/site-packages (from sacrebleu[ja]->nemo_toolkit[all]) (2.0.0)\n",
            "Requirement already satisfied: ipadic<2.0,>=1.0 in /usr/local/lib/python3.7/site-packages (from sacrebleu[ja]->nemo_toolkit[all]) (1.0.0)\n",
            "Requirement already satisfied: mecab-python3==1.0.3 in /usr/local/lib/python3.7/site-packages (from sacrebleu[ja]->nemo_toolkit[all]) (1.0.3)\n",
            "Requirement already satisfied: sphinxcontrib-jsmath in /usr/local/lib/python3.7/site-packages (from sphinx->nemo_toolkit[all]) (1.0.1)\n",
            "Requirement already satisfied: imagesize in /usr/local/lib/python3.7/site-packages (from sphinx->nemo_toolkit[all]) (1.2.0)\n",
            "Requirement already satisfied: docutils>=0.12 in /usr/local/lib/python3.7/site-packages (from sphinx->nemo_toolkit[all]) (0.17)\n",
            "Requirement already satisfied: sphinxcontrib-serializinghtml in /usr/local/lib/python3.7/site-packages (from sphinx->nemo_toolkit[all]) (1.1.4)\n",
            "Requirement already satisfied: Jinja2>=2.3 in /usr/local/lib/python3.7/site-packages (from sphinx->nemo_toolkit[all]) (2.11.3)\n",
            "Requirement already satisfied: sphinxcontrib-devhelp in /usr/local/lib/python3.7/site-packages (from sphinx->nemo_toolkit[all]) (1.0.2)\n",
            "Requirement already satisfied: alabaster<0.8,>=0.7 in /usr/local/lib/python3.7/site-packages (from sphinx->nemo_toolkit[all]) (0.7.12)\n",
            "Requirement already satisfied: snowballstemmer>=1.1 in /usr/local/lib/python3.7/site-packages (from sphinx->nemo_toolkit[all]) (2.1.0)\n",
            "Requirement already satisfied: sphinxcontrib-applehelp in /usr/local/lib/python3.7/site-packages (from sphinx->nemo_toolkit[all]) (1.0.2)\n",
            "Requirement already satisfied: sphinxcontrib-htmlhelp in /usr/local/lib/python3.7/site-packages (from sphinx->nemo_toolkit[all]) (1.0.3)\n",
            "Requirement already satisfied: Pygments>=2.0 in /usr/local/lib/python3.7/site-packages (from sphinx->nemo_toolkit[all]) (2.8.1)\n",
            "Requirement already satisfied: sphinxcontrib-qthelp in /usr/local/lib/python3.7/site-packages (from sphinx->nemo_toolkit[all]) (1.0.3)\n",
            "Requirement already satisfied: babel>=1.3 in /usr/local/lib/python3.7/site-packages (from sphinx->nemo_toolkit[all]) (2.9.0)\n",
            "Requirement already satisfied: MarkupSafe>=0.23 in /usr/local/lib/python3.7/site-packages (from Jinja2>=2.3->sphinx->nemo_toolkit[all]) (1.1.1)\n",
            "Requirement already satisfied: pybtex-docutils>=1.0.0 in /usr/local/lib/python3.7/site-packages (from sphinxcontrib-bibtex->nemo_toolkit[all]) (1.0.0)\n",
            "Requirement already satisfied: pybtex>=0.20 in /usr/local/lib/python3.7/site-packages (from sphinxcontrib-bibtex->nemo_toolkit[all]) (0.24.0)\n",
            "Requirement already satisfied: latexcodec>=1.0.4 in /usr/local/lib/python3.7/site-packages (from pybtex>=0.20->sphinxcontrib-bibtex->nemo_toolkit[all]) (2.0.1)\n",
            "Requirement already satisfied: subprocess32>=3.5.3 in /usr/local/lib/python3.7/site-packages (from wandb->nemo_toolkit[all]) (3.5.4)\n",
            "Requirement already satisfied: shortuuid>=0.5.0 in /usr/local/lib/python3.7/site-packages (from wandb->nemo_toolkit[all]) (1.0.1)\n",
            "Requirement already satisfied: configparser>=3.8.1 in /usr/local/lib/python3.7/site-packages (from wandb->nemo_toolkit[all]) (5.0.2)\n",
            "Requirement already satisfied: promise<3,>=2.0 in /usr/local/lib/python3.7/site-packages (from wandb->nemo_toolkit[all]) (2.3)\n",
            "Requirement already satisfied: docker-pycreds>=0.4.0 in /usr/local/lib/python3.7/site-packages (from wandb->nemo_toolkit[all]) (0.4.0)\n",
            "Requirement already satisfied: pathtools in /usr/local/lib/python3.7/site-packages (from wandb->nemo_toolkit[all]) (0.1.2)\n",
            "Requirement already satisfied: sentry-sdk>=0.4.0 in /usr/local/lib/python3.7/site-packages (from wandb->nemo_toolkit[all]) (1.0.0)\n",
            "Requirement already satisfied: psutil>=5.0.0 in /usr/local/lib/python3.7/site-packages (from wandb->nemo_toolkit[all]) (5.8.0)\n",
            "Requirement already satisfied: GitPython>=1.0.0 in /usr/local/lib/python3.7/site-packages (from wandb->nemo_toolkit[all]) (3.1.14)\n",
            "Requirement already satisfied: gitdb<5,>=4.0.1 in /usr/local/lib/python3.7/site-packages (from GitPython>=1.0.0->wandb->nemo_toolkit[all]) (4.0.7)\n",
            "Requirement already satisfied: smmap<5,>=3.0.1 in /usr/local/lib/python3.7/site-packages (from gitdb<5,>=4.0.1->GitPython>=1.0.0->wandb->nemo_toolkit[all]) (4.0.0)\n"
          ],
          "name": "stdout"
        }
      ]
    },
    {
      "cell_type": "code",
      "metadata": {
        "colab": {
          "base_uri": "https://localhost:8080/"
        },
        "id": "4nf8sui349co",
        "outputId": "d922ef7b-94d0-4fd3-accf-df9d1a80cc72"
      },
      "source": [
        "if 'google.colab' in str(get_ipython()):\n",
        "  !conda install -c conda-forge pynini=2.1.3"
      ],
      "id": "4nf8sui349co",
      "execution_count": 4,
      "outputs": [
        {
          "output_type": "stream",
          "text": [
            "Collecting package metadata (current_repodata.json): - \b\b\\ \b\b| \b\b/ \b\b- \b\b\\ \b\b| \b\b/ \b\b- \b\b\\ \b\b| \b\b/ \b\b- \b\b\\ \b\b| \b\b/ \b\b- \b\b\\ \b\bfailed\n",
            "\n",
            "InvalidVersionSpec: Invalid version '4.19.112+': empty version component\n",
            "\n"
          ],
          "name": "stdout"
        }
      ]
    },
    {
      "cell_type": "code",
      "metadata": {
        "id": "homeless-richardson"
      },
      "source": [
        "import os\n",
        "import wget\n",
        "import pynini"
      ],
      "id": "homeless-richardson",
      "execution_count": 5,
      "outputs": []
    },
    {
      "cell_type": "markdown",
      "metadata": {
        "id": "interracial-listing"
      },
      "source": [
        "# Task Description\n",
        "\n",
        "Inverse text normalization (ITN), also called denormalization, is a part of the Automatic Speech Recognition (ASR) post-processing pipeline. \n",
        "\n",
        "ITN is the task of converting the raw spoken output of the ASR model into its written form to improve the text readability. For example, `in nineteen seventy` should be changed to `in 1975` and `one hundred and twenty three dollars` to `$123`."
      ],
      "id": "interracial-listing"
    },
    {
      "cell_type": "markdown",
      "metadata": {
        "id": "desirable-words"
      },
      "source": [
        "# NeMo Inverse Text Normalization\n",
        "\n",
        "The NeMo ITN tool is a Python package that is based on weighted finite-state\n",
        "transducer (WFST) grammars. The tool uses [`Pynini`](https://github.com/kylebgorman/pynini) to construct WFSTs, and the created grammars can be exported and integrated into [`Sparrowhawk`](https://github.com/google/sparrowhawk) (an open-source version of [The Kestrel TTS text normalization system](https://www.cambridge.org/core/journals/natural-language-engineering/article/abs/kestrel-tts-text-normalization-system/F0C18A3F596B75D83B75C479E23795DA)) for production. The NeMo ITN tool can be seen as a Python extension of `Sparrowhawk`. \n",
        "\n",
        "Currently, NeMo tool provides support for English and the following semiotic classes from the [Google Text normalization dataset](https://www.kaggle.com/richardwilliamsproat/text-normalization-for-english-russian-and-polish):\n",
        "DATE, CARDINAL, MEASURE, DECIMAL, ORDINAL, MONEY, TIME, PLAIN. \n",
        "\n",
        "The toolkit is modular, easily extendable, and can be adapted to other languages and tasks like text normalization. The Python environment enables an easy combination of text covering grammars with NNs. \n",
        "\n",
        "The overall NeMo ITN pipeline from development in `Pynini` to deployment in `Sparrowhawk` is shown below:\n",
        "![alt text](deployment.png \"Inverse Text Normalization Pipeline\")"
      ],
      "id": "desirable-words"
    },
    {
      "cell_type": "markdown",
      "metadata": {
        "id": "military-radius"
      },
      "source": [
        "# Quick Start\n",
        "\n",
        "## Add ITN to your Python ASR post-processing workflow\n",
        "\n",
        "ITN is a part of the `nemo_tools` package and can be easily integrated into an existing pipeline. Installation instructions could be found [here](https://github.com/NVIDIA/NeMo/tree/main/nemo_tools)."
      ],
      "id": "military-radius"
    },
    {
      "cell_type": "code",
      "metadata": {
        "id": "limiting-genesis"
      },
      "source": [
        "from nemo_tools.text_denormalization.denormalize import denormalize\n",
        "\n",
        "raw_text = \"we paid one hundred and twenty three dollars for this desk, and this.\"\n",
        "denormalize(raw_text, verbose=False)"
      ],
      "id": "limiting-genesis",
      "execution_count": null,
      "outputs": []
    },
    {
      "cell_type": "markdown",
      "metadata": {
        "id": "downtown-inventory"
      },
      "source": [
        "In the above cell, `one hundred and twenty three dollars` would be converted to `$123`, and the rest of the words remain the same.\n",
        "\n",
        "## Run Inverse Text Normalization on an input from a file\n",
        "\n",
        "Use `run_predict.py` to convert a spoken text from a file `INPUT_FILE` to a written format and save the output to `OUTPUT_FILE`. Under the hood, `run_predict.py` is calling `denormalize()` (see the above section)."
      ],
      "id": "downtown-inventory"
    },
    {
      "cell_type": "code",
      "metadata": {
        "id": "streaming-butterfly"
      },
      "source": [
        "# If you're running the notebook locally, update the NEMO_TOOLS_PATH below\n",
        "# In Colab, a few required scripts will be downloaded from NeMo github\n",
        "\n",
        "NEMO_TOOLS_PATH = '<UPDATE_PATH_TO_NeMo_root>/nemo_tools/text_denormalization'\n",
        "DATA_DIR = 'data_dir'\n",
        "os.makedirs(DATA_DIR, exist_ok=True)\n",
        "\n",
        "if 'google.colab' in str(get_ipython()):\n",
        "    NEMO_TOOLS_PATH = '.'\n",
        "\n",
        "    required_files = ['run_predict.py',\n",
        "                      'run_evaluate.py']\n",
        "    for file in required_files:\n",
        "        if not os.path.exists(file):\n",
        "            file_path = 'https://raw.githubusercontent.com/NVIDIA/NeMo/' + BRANCH + '/nemo_tools/text_denormalization/' + file\n",
        "            print(file_path)\n",
        "            wget.download(file_path)\n",
        "elif not os.path.exists(NEMO_TOOLS_PATH):\n",
        "      raise ValueError(f'update path to NeMo root directory')\n",
        "\n",
        "INPUT_FILE = f'{DATA_DIR}/test.txt'\n",
        "OUTPUT_FILE = f'{DATA_DIR}/test_itn.txt'\n",
        "\n",
        "! echo \"on march second twenty twenty\" > $DATA_DIR/test.txt\n",
        "! python $NEMO_TOOLS_PATH/run_predict.py --input=$INPUT_FILE --output=$OUTPUT_FILE"
      ],
      "id": "streaming-butterfly",
      "execution_count": null,
      "outputs": []
    },
    {
      "cell_type": "code",
      "metadata": {
        "id": "cordless-louisiana"
      },
      "source": [
        "# check that the raw text was indeed converted to the written form\n",
        "! cat $OUTPUT_FILE"
      ],
      "id": "cordless-louisiana",
      "execution_count": null,
      "outputs": []
    },
    {
      "cell_type": "markdown",
      "metadata": {
        "id": "italic-parish"
      },
      "source": [
        "## Run evaluation\n",
        "\n",
        "[Google Text normalization dataset](https://www.kaggle.com/richardwilliamsproat/text-normalization-for-english-russian-and-polish) consists of 1.1 billion words of English text from Wikipedia, divided across 100 files. The normalized text is obtained with [The Kestrel TTS text normalization system](https://www.cambridge.org/core/journals/natural-language-engineering/article/abs/kestrel-tts-text-normalization-system/F0C18A3F596B75D83B75C479E23795DA)).\n",
        "\n",
        "Although a large fraction of this dataset can be reused for ITN by swapping input with output, the dataset is not bijective. \n",
        "\n",
        "For example: `1,000 -> one thousand`, `1000 -> one thousand`, `3:00pm -> three p m`, `3 pm -> three p m` are valid data samples for normalization but the inverse does not hold for ITN. \n",
        "\n",
        "We used regex rules to disambiguate samples where possible, see `nemo_tools/text_denormalization/clean_eval_data.py`.\n",
        "\n",
        "To run evaluation, the `input` file should follow the Google Text normalization dataset format.\n",
        "\n",
        "Example evaluation run: \n",
        "\n",
        "`python run_evaluate.py \\\n",
        "        --input=./en_with_types/output-00001-of-00100 \\\n",
        "        [--denormalizer nemo] \\\n",
        "        [--cat CATEGORY] \\\n",
        "        [--filter]`\n",
        "        \n",
        "        \n",
        "Use `--cat` to specify a `CATEGORY` to run evaluation on (all other categories are going to be exluded from evaluation). With the option `--filter`, the provided data will be cleaned to avaid disambiguieties (use `clean_eval_data.py` to clean up the data upfront)."
      ],
      "id": "italic-parish"
    },
    {
      "cell_type": "code",
      "metadata": {
        "id": "intimate-astronomy"
      },
      "source": [
        "eval_text = \"\"\"PLAIN\tON\t<self>\n",
        "DATE\t22 July 2012\tthe twenty second of july twenty twelve\n",
        "PUNCT\t.\tsil\n",
        "<eos>\t<eos>\n",
        "\"\"\"\n",
        "\n",
        "INPUT_FILE_EVAL = f'{DATA_DIR}/test_eval.txt'\n",
        "\n",
        "with open(INPUT_FILE_EVAL, 'w') as f:\n",
        "    f.write(eval_text)\n",
        "    \n",
        "! python $NEMO_TOOLS_PATH/run_evaluate.py --input=$INPUT_FILE_EVAL"
      ],
      "id": "intimate-astronomy",
      "execution_count": null,
      "outputs": []
    },
    {
      "cell_type": "markdown",
      "metadata": {
        "id": "raised-exemption"
      },
      "source": [
        "`run_evaluate.py` call will output both **sentence level** and **token level** accuracies. \n",
        "For our example, the expected output is the following:\n",
        "\n",
        "```\n",
        "Loading training data: test_eval.txt\n",
        "Sentence level evaluation...\n",
        "- Data: 1 sentences\n",
        "100%|█████████████████████████████████████████████| 1/1 [00:00<00:00, 79.83it/s]\n",
        "- Deormalized. Evaluating...\n",
        "- Accuracy: 1.0\n",
        "Token level evaluation...\n",
        "- Token type: PLAIN\n",
        "  - Data: 1 tokens\n",
        "100%|████████████████████████████████████████████| 1/1 [00:00<00:00, 519.68it/s]\n",
        "  - Denormalized. Evaluating...\n",
        "  - Accuracy: 1.0\n",
        "- Token type: DATE\n",
        "  - Data: 1 tokens\n",
        "100%|████████████████████████████████████████████| 1/1 [00:00<00:00, 165.33it/s]\n",
        "  - Denormalized. Evaluating...\n",
        "  - Accuracy: 1.0\n",
        "- Accuracy: 1.0\n",
        " - Total: 2 \n",
        "\n",
        "         Class Num Tokens nemo\n",
        "0   sent level          1  1.0\n",
        "1        PLAIN          1  1.0\n",
        "2         DATE          1  1.0\n",
        "3     CARDINAL          0    0\n",
        "4      LETTERS          0    0\n",
        "5     VERBATIM          0    0\n",
        "6      MEASURE          0    0\n",
        "7      DECIMAL          0    0\n",
        "8      ORDINAL          0    0\n",
        "9        DIGIT          0    0\n",
        "10       MONEY          0    0\n",
        "11   TELEPHONE          0    0\n",
        "12  ELECTRONIC          0    0\n",
        "13    FRACTION          0    0\n",
        "14        TIME          0    0\n",
        "15     ADDRESS          0    0\n",
        "```"
      ],
      "id": "raised-exemption"
    },
    {
      "cell_type": "markdown",
      "metadata": {
        "id": "imported-literacy"
      },
      "source": [
        "# C++ deployment\n",
        "\n",
        "The instructions on how to export `Pynini` grammars and to run them with `Sparrowhawk`, could be found at [NeMo/text_denormalization/tools/text_denormalization](https://github.com/NVIDIA/NeMo/tree/text_denormalization/tools/text_denormalization)."
      ],
      "id": "imported-literacy"
    },
    {
      "cell_type": "markdown",
      "metadata": {
        "id": "bronze-nerve"
      },
      "source": [
        "# WFST and Common Pynini Operations\n",
        "\n",
        "Finite-state acceptor (or FSA) is a finite state automaton that has a finite number of states and no output. FSA either accepts (when the matching patter is found) or rejects a string (no match is found). "
      ],
      "id": "bronze-nerve"
    },
    {
      "cell_type": "code",
      "metadata": {
        "id": "heavy-distance"
      },
      "source": [
        "print([byte for byte in bytes('fst', 'utf-8')])\n",
        "\n",
        "# create an acceptor from a string\n",
        "pynini.accep('fst')"
      ],
      "id": "heavy-distance",
      "execution_count": null,
      "outputs": []
    },
    {
      "cell_type": "markdown",
      "metadata": {
        "id": "brave-avatar"
      },
      "source": [
        "Here `0` - is a start note, `1` and `2` are the accept nodes, while `3` is a finite state.\n",
        "By default (token_type=\"byte\", `Pynini` interprets the string as a sequence of bytes, assigning one byte per arc. \n",
        "\n",
        "A finite state transducer (FST) not only matches the pattern but also produces output according to the defined transitions."
      ],
      "id": "brave-avatar"
    },
    {
      "cell_type": "code",
      "metadata": {
        "id": "paperback-female"
      },
      "source": [
        "# create an FST\n",
        "pynini.cross('fst', 'FST')"
      ],
      "id": "paperback-female",
      "execution_count": null,
      "outputs": []
    },
    {
      "cell_type": "markdown",
      "metadata": {
        "id": "blond-hypothetical"
      },
      "source": [
        "Pynini supports the following operations:\n",
        "\n",
        "- `closure` - Computes concatenative closure.\n",
        "- `compose` - Constructively composes two FSTs.\n",
        "- `concat` - Computes the concatenation (product) of two FSTs.\n",
        "- `difference` - Constructively computes the difference of two FSTs.\n",
        "- `invert`  - Inverts the FST's transduction.\n",
        "- `optimize` - Performs a generic optimization of the FST.\n",
        "- `project` - Converts the FST to an acceptor using input or output labels.\n",
        "- `shortestpath` - Construct an FST containing the shortest path(s) in the input FST.\n",
        "- `union`- Computes the union (sum) of two or more FSTs.\n",
        "\n",
        "\n",
        "The list of most commonly used `Pynini` operations could be found [https://github.com/kylebgorman/pynini/blob/master/CHEATSHEET](https://github.com/kylebgorman/pynini/blob/master/CHEATSHEET). \n",
        "\n",
        "Pynini examples could be found at [https://github.com/kylebgorman/pynini/tree/master/pynini/examples](https://github.com/kylebgorman/pynini/tree/master/pynini/examples).\n",
        "Use `help()` to explore the functionality. For example:"
      ],
      "id": "blond-hypothetical"
    },
    {
      "cell_type": "code",
      "metadata": {
        "id": "arctic-firewall"
      },
      "source": [
        "help(pynini.union)"
      ],
      "id": "arctic-firewall",
      "execution_count": null,
      "outputs": []
    },
    {
      "cell_type": "markdown",
      "metadata": {
        "id": "continued-optimum"
      },
      "source": [
        "# NeMo ITN API"
      ],
      "id": "continued-optimum"
    },
    {
      "cell_type": "markdown",
      "metadata": {
        "id": "twenty-terrorist"
      },
      "source": [
        "NeMo ITN defines the following APIs that are called in sequence:\n",
        "\n",
        "- `classify()` - creates a linear automaton from the input string and composes it with the final classification WFST, which transduces numbers and inserts semantic tags.  \n",
        "- `parse()` - parses the tagged string into a list of key-value items representing the different semiotic tokens.\n",
        "- `generate_reorderings()` - takes the parsed tokens and generates string serializations with different reorderings of the key-value items. This is important since WFSTs can only process input linearly, but the word order can change from spoken to written form (e.g., `three dollars -> $3`). \n",
        "- `verbalize()` - takes the intermediate string representation and composes it with the final verbalization WFST, which removes the tags and returns the written form.  \n",
        "\n",
        "![alt text](pipeline.png \"Inverse Text Normalization Pipeline\")"
      ],
      "id": "twenty-terrorist"
    },
    {
      "cell_type": "markdown",
      "metadata": {
        "id": "twenty-charles"
      },
      "source": [
        "# References and Further Reading:\n",
        "\n",
        "- [Ebden, Peter, and Richard Sproat. \"The Kestrel TTS text normalization system.\" Natural Language Engineering 21.3 (2015): 333.](https://www.cambridge.org/core/journals/natural-language-engineering/article/abs/kestrel-tts-text-normalization-system/F0C18A3F596B75D83B75C479E23795DA)\n",
        "- [Gorman, Kyle. \"Pynini: A Python library for weighted finite-state grammar compilation.\" Proceedings of the SIGFSM Workshop on Statistical NLP and Weighted Automata. 2016.](https://www.aclweb.org/anthology/W16-2409.pdf)\n",
        "- [Mohri, Mehryar, Fernando Pereira, and Michael Riley. \"Weighted finite-state transducers in speech recognition.\" Computer Speech & Language 16.1 (2002): 69-88.](https://cs.nyu.edu/~mohri/postscript/csl01.pdf)"
      ],
      "id": "twenty-charles"
    }
  ]
}